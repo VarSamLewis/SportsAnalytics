{
 "cells": [
  {
   "cell_type": "code",
   "execution_count": 1,
   "id": "3f6659ed-72f5-4cc2-b2f3-4d43ee53b8be",
   "metadata": {},
   "outputs": [],
   "source": [
    "import pandas as pd\n",
    "import networkx as nx\n",
    "from nba_api.stats.endpoints import playerdashptpass, commonteamroster\n",
    "from nba_api.stats.static import teams\n",
    "import logging as log\n",
    "\n",
    "# Set up logging\n",
    "log.basicConfig(level=log.INFO, format='%(asctime)s - %(levelname)s - %(message)s')"
   ]
  },
  {
   "cell_type": "code",
   "execution_count": 2,
   "id": "0593c0b6-1a85-4f9f-9d9f-ec72d0ad37a0",
   "metadata": {},
   "outputs": [],
   "source": [
    "def get_team_id(abbreviation):\n",
    "    \"\"\"\n",
    "    Retrieve the team ID for a given team abbreviation.\n",
    "\n",
    "    :param abbreviation: Abbreviation of the NBA team.\n",
    "    :return: Team ID or None if not found.\n",
    "    \"\"\"\n",
    "    try:\n",
    "        nba_teams = teams.get_teams()\n",
    "        for team in nba_teams:\n",
    "            if team['abbreviation'] == abbreviation:\n",
    "                return team['id']\n",
    "        return None\n",
    "    except Exception as e:\n",
    "        log.error(f\"Error in get_team_id: {e}\")\n",
    "        return None"
   ]
  },
  {
   "cell_type": "code",
   "execution_count": 3,
   "id": "db8f7a46-f379-4612-b49a-8e1682e7c2e5",
   "metadata": {},
   "outputs": [],
   "source": [
    "def get_team_roster(team_id, season):\n",
    "    \"\"\"\n",
    "    Get the roster of a team for a given season.\n",
    "\n",
    "    :param team_id: ID of the NBA team.\n",
    "    :param season: The season for which to retrieve the roster.\n",
    "    :return: DataFrame containing the team roster.\n",
    "    \"\"\"\n",
    "    try:\n",
    "        roster = commonteamroster.CommonTeamRoster(team_id=team_id, season=season)\n",
    "        return roster.common_team_roster.get_data_frame()\n",
    "    except Exception as e:\n",
    "        log.error(f\"Error getting roster for team ID {team_id}: {e}\")\n",
    "        return pd.DataFrame()"
   ]
  },
  {
   "cell_type": "code",
   "execution_count": 4,
   "id": "750b9775-c5dd-4d7e-9343-72d038834d28",
   "metadata": {},
   "outputs": [],
   "source": [
    "def get_player_passing_data(player_id, team_id, season):\n",
    "    \"\"\"\n",
    "    Retrieve the passing data for a player.\n",
    "\n",
    "    :param player_id: ID of the player.\n",
    "    :param team_id: ID of the player's team.\n",
    "    :param season: The season for which to retrieve the data.\n",
    "    :return: DataFrame with the player's passing data.\n",
    "    \"\"\"\n",
    "    try:\n",
    "        passing = playerdashptpass.PlayerDashPtPass(player_id=player_id, team_id=team_id, season=season)\n",
    "        return passing.get_data_frames()[0]\n",
    "    except Exception as e:\n",
    "        log.error(f\"Error getting passing data for player ID {player_id}: {e}\")\n",
    "        return pd.DataFrame()"
   ]
  },
  {
   "cell_type": "code",
   "execution_count": 5,
   "id": "65ebf2bb-998a-4efd-89a5-51e2801abbc4",
   "metadata": {},
   "outputs": [],
   "source": [
    "def get_team_passing_data(team_id, season):\n",
    "    \"\"\"\n",
    "    Get passing data for all players in a team for a given season.\n",
    "\n",
    "    :param team_id: ID of the NBA team.\n",
    "    :param season: The season for which to retrieve the data.\n",
    "    :return: DataFrame with the passing data of all team players.\n",
    "    \"\"\"\n",
    "    passing_data = pd.DataFrame()\n",
    "    players = get_team_roster(team_id, season)\n",
    "    for index, player in players.iterrows():\n",
    "        player_data = get_player_passing_data(player['PLAYER_ID'], team_id, season)\n",
    "        passing_data = pd.concat([passing_data, player_data], ignore_index=True)\n",
    "    return passing_data"
   ]
  },
  {
   "cell_type": "code",
   "execution_count": 6,
   "id": "32ca23be-ad93-4684-bd7b-82f61674d8d0",
   "metadata": {},
   "outputs": [],
   "source": [
    "def collect_nba_passing_data(season):\n",
    "    \"\"\"\n",
    "    Collect NBA passing data for all teams for a given season.\n",
    "\n",
    "    :param season: The NBA season for which to collect data.\n",
    "    :return: Dictionary with team abbreviations as keys and passing data as values.\n",
    "    \"\"\"\n",
    "    all_teams_passing_data = {}\n",
    "    for team in teams.get_teams():\n",
    "        team_id = team['id']\n",
    "        team_abbreviation = team['abbreviation']\n",
    "        team_data = get_team_passing_data(team_id, season)\n",
    "        all_teams_passing_data[team_abbreviation] = team_data\n",
    "        log.info(f\"Collected data for team: {team_abbreviation}\")\n",
    "    return all_teams_passing_data"
   ]
  },
  {
   "cell_type": "code",
   "execution_count": 7,
   "id": "6a6686d5-5d79-4b8a-9051-985d8083ac7d",
   "metadata": {},
   "outputs": [],
   "source": [
    "def calculate_centrality_for_team(team_data, team_abbreviation):\n",
    "    \"\"\"\n",
    "    Calculate centrality measures for a team's passing data.\n",
    "\n",
    "    :param team_data: DataFrame containing team's passing data.\n",
    "    :param team_abbreviation: Abbreviation of the team.\n",
    "    :return: DataFrame with centrality measures for each player.\n",
    "    \"\"\"\n",
    "    try:\n",
    "        G = nx.Graph()\n",
    "\n",
    "        # Add nodes to the graph\n",
    "        for player in team_data['PLAYER_NAME_LAST_FIRST'].unique():\n",
    "            G.add_node(player)\n",
    "\n",
    "        # Add edges to the graph\n",
    "        for _, row in team_data.iterrows():\n",
    "            G.add_edge(row['PLAYER_NAME_LAST_FIRST'], row['PASS_TO'])\n",
    "\n",
    "        # Calculate centrality measures\n",
    "        return create_centrality_df(G, team_abbreviation)\n",
    "    except Exception as e:\n",
    "        log.error(f\"Error in calculate_centrality_for_team: {e}\")\n",
    "        return pd.DataFrame()"
   ]
  },
  {
   "cell_type": "code",
   "execution_count": 8,
   "id": "b5cc8946-dc84-4795-9826-5690edb39c78",
   "metadata": {},
   "outputs": [],
   "source": [
    "def create_centrality_df(G, team_abbreviation):\n",
    "    \"\"\"\n",
    "    Create a DataFrame of centrality measures from a graph.\n",
    "\n",
    "    :param G: NetworkX graph object.\n",
    "    :param team_abbreviation: Abbreviation of the team.\n",
    "    :return: DataFrame with centrality measures.\n",
    "    \"\"\"\n",
    "    degree_centrality = nx.degree_centrality(G)\n",
    "    betweenness_centrality = nx.betweenness_centrality(G)\n",
    "    closeness_centrality = nx.closeness_centrality(G)\n",
    "\n",
    "    return pd.DataFrame({\n",
    "        'PLAYER_NAME_LAST_FIRST': list(degree_centrality.keys()),\n",
    "        'DEGREE': list(degree_centrality.values()),\n",
    "        'BETWEENNESS': list(betweenness_centrality.values()),\n",
    "        'CLOSENESS': list(closeness_centrality.values()),\n",
    "        'TEAM': team_abbreviation\n",
    "    })"
   ]
  },
  {
   "cell_type": "code",
   "execution_count": 9,
   "id": "f997e32a-0862-4bc6-b241-45ee593f9e5f",
   "metadata": {},
   "outputs": [
    {
     "name": "stderr",
     "output_type": "stream",
     "text": [
      "2023-11-16 22:35:23,604 - INFO - Collected data for team: ATL\n",
      "2023-11-16 22:35:31,305 - INFO - Collected data for team: BOS\n",
      "2023-11-16 22:35:37,659 - INFO - Collected data for team: CLE\n",
      "2023-11-16 22:35:44,124 - INFO - Collected data for team: NOP\n",
      "2023-11-16 22:35:51,185 - INFO - Collected data for team: CHI\n",
      "2023-11-16 22:35:57,300 - INFO - Collected data for team: DAL\n",
      "2023-11-16 22:36:05,304 - INFO - Collected data for team: DEN\n",
      "2023-11-16 22:36:12,040 - INFO - Collected data for team: GSW\n",
      "2023-11-16 22:36:20,564 - INFO - Collected data for team: HOU\n",
      "2023-11-16 22:36:28,226 - INFO - Collected data for team: LAC\n",
      "2023-11-16 22:36:33,541 - INFO - Collected data for team: LAL\n",
      "2023-11-16 22:36:39,079 - INFO - Collected data for team: MIA\n",
      "2023-11-16 22:36:44,914 - INFO - Collected data for team: MIL\n",
      "2023-11-16 22:36:51,132 - INFO - Collected data for team: MIN\n",
      "2023-11-16 22:36:56,091 - INFO - Collected data for team: BKN\n",
      "2023-11-16 22:37:01,342 - INFO - Collected data for team: NYK\n",
      "2023-11-16 22:37:06,072 - INFO - Collected data for team: ORL\n",
      "2023-11-16 22:37:11,129 - INFO - Collected data for team: IND\n",
      "2023-11-16 22:37:16,767 - INFO - Collected data for team: PHI\n",
      "2023-11-16 22:37:21,798 - INFO - Collected data for team: PHX\n",
      "2023-11-16 22:37:26,807 - INFO - Collected data for team: POR\n",
      "2023-11-16 22:37:31,921 - INFO - Collected data for team: SAC\n",
      "2023-11-16 22:37:38,243 - INFO - Collected data for team: SAS\n",
      "2023-11-16 22:37:45,640 - INFO - Collected data for team: OKC\n",
      "2023-11-16 22:37:52,821 - INFO - Collected data for team: TOR\n",
      "2023-11-16 22:37:59,076 - INFO - Collected data for team: UTA\n",
      "2023-11-16 22:38:05,226 - INFO - Collected data for team: MEM\n",
      "2023-11-16 22:38:11,969 - INFO - Collected data for team: WAS\n",
      "2023-11-16 22:38:20,349 - INFO - Collected data for team: DET\n",
      "2023-11-16 22:38:26,506 - INFO - Collected data for team: CHA\n"
     ]
    }
   ],
   "source": [
    "# Example usage\n",
    "season = '2022-23'\n",
    "try:\n",
    "    nba_passing_data = collect_nba_passing_data(season)\n",
    "except Exception as e:\n",
    "    log.error(f\"Error in collecting NBA passing data: {e}\")\n"
   ]
  },
  {
   "cell_type": "code",
   "execution_count": 9,
   "id": "db932a0f-5e42-46da-a7a8-e1eb540789d3",
   "metadata": {},
   "outputs": [
    {
     "name": "stdout",
     "output_type": "stream",
     "text": [
      "Saved data for team: ATL\n",
      "Saved data for team: BOS\n",
      "Saved data for team: CLE\n",
      "Saved data for team: NOP\n",
      "Saved data for team: CHI\n",
      "Saved data for team: DAL\n",
      "Saved data for team: DEN\n",
      "Saved data for team: GSW\n",
      "Saved data for team: HOU\n",
      "Saved data for team: LAC\n",
      "Saved data for team: LAL\n",
      "Saved data for team: MIA\n",
      "Saved data for team: MIL\n",
      "Saved data for team: MIN\n",
      "Saved data for team: BKN\n",
      "Saved data for team: NYK\n",
      "Saved data for team: ORL\n",
      "Saved data for team: IND\n",
      "Saved data for team: PHI\n",
      "Saved data for team: PHX\n",
      "Saved data for team: POR\n",
      "Saved data for team: SAC\n",
      "Saved data for team: SAS\n",
      "Saved data for team: OKC\n",
      "Saved data for team: TOR\n",
      "Saved data for team: UTA\n",
      "Saved data for team: MEM\n",
      "Saved data for team: WAS\n",
      "Saved data for team: DET\n",
      "Saved data for team: CHA\n"
     ]
    }
   ],
   "source": [
    "excel_file_name = 'nba_passing_data.xlsx'\n",
    "save_data_to_excel(nba_passing_data, excel_file_name)"
   ]
  },
  {
   "cell_type": "code",
   "execution_count": 10,
   "id": "6db0dcaa-e351-4f68-97e0-8fb4c1e4b015",
   "metadata": {},
   "outputs": [
    {
     "name": "stderr",
     "output_type": "stream",
     "text": [
      "2023-11-16 23:19:55,013 - INFO - Combined Centrality Data for All Teams\n"
     ]
    },
    {
     "name": "stdout",
     "output_type": "stream",
     "text": [
      "    PLAYER_NAME_LAST_FIRST    DEGREE  BETWEENNESS  CLOSENESS TEAM\n",
      "0        Williams, Donovan  0.200000     0.000000   0.540541  ATL\n",
      "1          Fernando, Bruno  0.500000     0.012640   0.666667  ATL\n",
      "2           Johnson, Jalen  0.900000     0.022630   0.909091  ATL\n",
      "3           Forrest, Trent  0.850000     0.019752   0.869565  ATL\n",
      "4           Holiday, Aaron  0.950000     0.058595   0.952381  ATL\n",
      "..                     ...       ...          ...        ...  ...\n",
      "608             Jones, Kai  0.894737     0.017053   0.904762  CHA\n",
      "609       Washington, P.J.  0.842105     0.005585   0.863636  CHA\n",
      "610       McDaniels, Jalen  0.736842     0.002492   0.791667  CHA\n",
      "611        Gabriel, Wenyen  0.052632     0.000000   0.487179  CHA\n",
      "612         Plumlee, Mason  0.631579     0.002127   0.730769  CHA\n",
      "\n",
      "[613 rows x 5 columns]\n"
     ]
    }
   ],
   "source": [
    "# Combine centrality data for all teams into a single DataFrame\n",
    "all_teams_centrality = pd.DataFrame()\n",
    "\n",
    "for team_abbreviation, team_data in nba_passing_data.items():\n",
    "    team_centrality_df = calculate_centrality_for_team(team_data, team_abbreviation)\n",
    "    all_teams_centrality = pd.concat([all_teams_centrality, team_centrality_df], ignore_index=True)\n",
    "\n",
    "# Display the combined DataFrame\n",
    "log.info(\"Combined Centrality Data for All Teams\")\n",
    "print(all_teams_centrality)"
   ]
  },
  {
   "cell_type": "code",
   "execution_count": 15,
   "id": "3b99f0bd-48f0-491a-b5f5-bf4b3cf07df0",
   "metadata": {},
   "outputs": [
    {
     "name": "stdout",
     "output_type": "stream",
     "text": [
      "Team with the most unequal DEGREE centrality: DET\n",
      "Top player in this team (DEGREE centrality): Hayes, Killian\n"
     ]
    }
   ],
   "source": [
    "def most_heliocentric_player(df, centrality_metric='DEGREE'):\n",
    "    \"\"\"\n",
    "    Find the player who is most central in the team with the greatest disparity in centrality measures.\n",
    "\n",
    "    :param df: DataFrame containing centrality data for NBA players.\n",
    "    :param centrality_metric: The centrality metric to consider ('DEGREE', 'BETWEENNESS', 'CLOSENESS').\n",
    "    :return: A tuple containing the team with the most unequal centrality and the most central player in that team.\n",
    "    \"\"\"\n",
    "    # Calculate the spread of centrality measures for each team\n",
    "    spread_df = df.groupby('TEAM').agg({'DEGREE': ['max', 'min'], \n",
    "                                        'BETWEENNESS': ['max', 'min'], \n",
    "                                        'CLOSENESS': ['max', 'min']})\n",
    "\n",
    "    # Calculate the spread for each centrality measure\n",
    "    spread_df['DEGREE_SPREAD'] = spread_df[('DEGREE', 'max')] - spread_df[('DEGREE', 'min')]\n",
    "    spread_df['BETWEENNESS_SPREAD'] = spread_df[('BETWEENNESS', 'max')] - spread_df[('BETWEENNESS', 'min')]\n",
    "    spread_df['CLOSENESS_SPREAD'] = spread_df[('CLOSENESS', 'max')] - spread_df[('CLOSENESS', 'min')]\n",
    "\n",
    "    # Determine the team with the greatest spread in the specified centrality measure\n",
    "    if centrality_metric not in ['DEGREE', 'BETWEENNESS', 'CLOSENESS']:\n",
    "        raise ValueError(\"Invalid centrality metric. Choose from 'DEGREE', 'BETWEENNESS', 'CLOSENESS'.\")\n",
    "\n",
    "    max_spread_team = spread_df[f'{centrality_metric}_SPREAD'].idxmax()\n",
    "\n",
    "    # Identify the player with the highest centrality on that team\n",
    "    top_player = df[df['TEAM'] == max_spread_team].sort_values(centrality_metric, ascending=False).iloc[0]\n",
    "\n",
    "    return max_spread_team, top_player['PLAYER_NAME_LAST_FIRST']\n",
    "\n",
    "# Example usage\n",
    "centrality_metric = 'DEGREE'\n",
    "team, player = most_heliocentric_player(all_teams_centrality, centrality_metric)\n",
    "print(f\"Team with the most unequal {centrality_metric} centrality: {team}\")\n",
    "print(f\"Top player in this team ({centrality_metric} centrality): {player}\")\n"
   ]
  },
  {
   "cell_type": "code",
   "execution_count": null,
   "id": "e7741c13-1f51-4bb1-8524-f276a61bc4e8",
   "metadata": {},
   "outputs": [],
   "source": []
  }
 ],
 "metadata": {
  "kernelspec": {
   "display_name": "Python 3 (ipykernel)",
   "language": "python",
   "name": "python3"
  },
  "language_info": {
   "codemirror_mode": {
    "name": "ipython",
    "version": 3
   },
   "file_extension": ".py",
   "mimetype": "text/x-python",
   "name": "python",
   "nbconvert_exporter": "python",
   "pygments_lexer": "ipython3",
   "version": "3.9.12"
  }
 },
 "nbformat": 4,
 "nbformat_minor": 5
}
